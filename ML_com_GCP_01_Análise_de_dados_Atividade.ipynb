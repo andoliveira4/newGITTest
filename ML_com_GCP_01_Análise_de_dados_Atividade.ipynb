{
  "nbformat": 4,
  "nbformat_minor": 0,
  "metadata": {
    "colab": {
      "name": "ML com GCP - 01 - Análise de dados - Atividade",
      "provenance": [],
      "collapsed_sections": [],
      "toc_visible": true,
      "include_colab_link": true
    },
    "kernelspec": {
      "name": "python3",
      "display_name": "Python 3"
    }
  },
  "cells": [
    {
      "cell_type": "markdown",
      "metadata": {
        "id": "view-in-github",
        "colab_type": "text"
      },
      "source": [
        "<a href=\"https://colab.research.google.com/github/andoliveira4/newGITTest/blob/master/ML_com_GCP_01_An%C3%A1lise_de_dados_Atividade.ipynb\" target=\"_parent\"><img src=\"https://colab.research.google.com/assets/colab-badge.svg\" alt=\"Open In Colab\"/></a>"
      ]
    },
    {
      "cell_type": "markdown",
      "metadata": {
        "id": "ttxUdtrlm4m6",
        "colab_type": "text"
      },
      "source": [
        "# Autenticação\n",
        "Primeiro precisamos autenticar nossa sessão do Colab no Google e definimos o ID do projeto"
      ]
    },
    {
      "cell_type": "code",
      "metadata": {
        "id": "9wgK4E7UmlR8",
        "colab_type": "code",
        "outputId": "c8dc9c3d-cb1d-41b8-8532-eb2aba9548ef",
        "colab": {
          "base_uri": "https://localhost:8080/",
          "height": 34
        }
      },
      "source": [
        "from google.colab import auth\n",
        "auth.authenticate_user()\n",
        "print('Authenticated')"
      ],
      "execution_count": 0,
      "outputs": [
        {
          "output_type": "stream",
          "text": [
            "Authenticated\n"
          ],
          "name": "stdout"
        }
      ]
    },
    {
      "cell_type": "code",
      "metadata": {
        "id": "aiHcymktlWxC",
        "colab_type": "code",
        "cellView": "both",
        "colab": {}
      },
      "source": [
        "#Informe o id do projeto nesta linha. Este é meu ID, você precisa colocar o teu:\n",
        "\n",
        "project_id = \"curso-gcp-ml-tensorflow\" #@param {type:\"string\"}\n"
      ],
      "execution_count": 0,
      "outputs": []
    },
    {
      "cell_type": "markdown",
      "metadata": {
        "id": "D7SXXClkL-3S",
        "colab_type": "text"
      },
      "source": [
        "# Client Big Query\n",
        "\n",
        "Como vamos buscar dados no bigquery, é necessário criar um cliente BG"
      ]
    },
    {
      "cell_type": "code",
      "metadata": {
        "id": "_MooAayGL-OK",
        "colab_type": "code",
        "colab": {}
      },
      "source": [
        "# Call BigQuery and examine in dataframe\n",
        "from google.cloud import bigquery\n",
        "\n",
        "bgclient = bigquery.Client(project=project_id)"
      ],
      "execution_count": 0,
      "outputs": []
    },
    {
      "cell_type": "markdown",
      "metadata": {
        "id": "0Cd5TcsWr7Ok",
        "colab_type": "text"
      },
      "source": [
        "Demais imports:"
      ]
    },
    {
      "cell_type": "code",
      "metadata": {
        "id": "QcW9RAL6j3_v",
        "colab_type": "code",
        "colab": {}
      },
      "source": [
        "import matplotlib.pyplot as plt\n",
        "import seaborn as sns, numpy as np"
      ],
      "execution_count": 0,
      "outputs": []
    },
    {
      "cell_type": "markdown",
      "metadata": {
        "id": "CBtxvZtydI6R",
        "colab_type": "text"
      },
      "source": [
        "#Exploração\n",
        "\n"
      ]
    },
    {
      "cell_type": "markdown",
      "metadata": {
        "id": "FsLhfXcsFcLq",
        "colab_type": "text"
      },
      "source": [
        "Vamos avaliar quantas observações realmente temos, e quanta temos a partir de 2001"
      ]
    },
    {
      "cell_type": "code",
      "metadata": {
        "id": "51MXzbI-FziT",
        "colab_type": "code",
        "colab": {}
      },
      "source": [
        "query = \"\"\"\n",
        "SELECT\n",
        "  COUNT(1) as observacoes\n",
        "FROM\n",
        "  publicdata.samples.natality\n",
        "\"\"\"\n",
        "df = bgclient.query(query).to_dataframe()\n",
        "df"
      ],
      "execution_count": 0,
      "outputs": []
    },
    {
      "cell_type": "code",
      "metadata": {
        "id": "x3wA81IHF0Yo",
        "colab_type": "code",
        "colab": {}
      },
      "source": [
        "query = \"\"\"\n",
        "SELECT\n",
        "  COUNT(1) as observacoes\n",
        "FROM\n",
        "  publicdata.samples.natality\n",
        "WHERE year > 2000\n",
        "\"\"\"\n",
        "df = bgclient.query(query).to_dataframe()\n",
        "df"
      ],
      "execution_count": 0,
      "outputs": []
    },
    {
      "cell_type": "markdown",
      "metadata": {
        "id": "vsnNgQvMFa9d",
        "colab_type": "text"
      },
      "source": [
        "Então iniciamos a exploração detalhada. Vamos buscar apenas 1000 observações dos nascimentos a partir de 2001:"
      ]
    },
    {
      "cell_type": "code",
      "metadata": {
        "id": "b8Mjc6ElmqBx",
        "colab_type": "code",
        "colab": {}
      },
      "source": [
        "query = \"\"\"\n",
        "SELECT\n",
        "  weight_pounds,\n",
        "  weight_pounds * 0.45359237 AS weight_kilos,\n",
        "  is_male,\n",
        "  mother_age,\n",
        "  mother_married,\n",
        "  plurality,\n",
        "  gestation_weeks,\n",
        "  CONCAT(CAST(YEAR AS STRING), CAST(month AS STRING)) as year_and_month,\n",
        "  FARM_FINGERPRINT('ELTHON') AS MeuHash,  \n",
        "  ABS(FARM_FINGERPRINT(CONCAT(CAST(YEAR AS STRING), CAST(month AS STRING)))) AS hashmonth,\n",
        "  RAND() AS meurand\n",
        "FROM\n",
        "  publicdata.samples.natality\n",
        "WHERE year > 2000\n",
        "LIMIT 1000\n",
        "\"\"\""
      ],
      "execution_count": 0,
      "outputs": []
    },
    {
      "cell_type": "code",
      "metadata": {
        "id": "zu-bFtGnnJDY",
        "colab_type": "code",
        "outputId": "d10dc2c4-add1-4a12-9429-d94855f9929b",
        "colab": {
          "base_uri": "https://localhost:8080/",
          "height": 224
        }
      },
      "source": [
        "df = bgclient.query(query).to_dataframe()\n",
        "df.head()"
      ],
      "execution_count": 0,
      "outputs": [
        {
          "output_type": "execute_result",
          "data": {
            "text/html": [
              "<div>\n",
              "<style scoped>\n",
              "    .dataframe tbody tr th:only-of-type {\n",
              "        vertical-align: middle;\n",
              "    }\n",
              "\n",
              "    .dataframe tbody tr th {\n",
              "        vertical-align: top;\n",
              "    }\n",
              "\n",
              "    .dataframe thead th {\n",
              "        text-align: right;\n",
              "    }\n",
              "</style>\n",
              "<table border=\"1\" class=\"dataframe\">\n",
              "  <thead>\n",
              "    <tr style=\"text-align: right;\">\n",
              "      <th></th>\n",
              "      <th>weight_pounds</th>\n",
              "      <th>weight_kilos</th>\n",
              "      <th>is_male</th>\n",
              "      <th>mother_age</th>\n",
              "      <th>mother_married</th>\n",
              "      <th>plurality</th>\n",
              "      <th>gestation_weeks</th>\n",
              "      <th>year_and_month</th>\n",
              "      <th>MeuHash</th>\n",
              "      <th>hashmonth</th>\n",
              "      <th>meurand</th>\n",
              "    </tr>\n",
              "  </thead>\n",
              "  <tbody>\n",
              "    <tr>\n",
              "      <th>0</th>\n",
              "      <td>8.818490</td>\n",
              "      <td>4.000</td>\n",
              "      <td>False</td>\n",
              "      <td>17</td>\n",
              "      <td>False</td>\n",
              "      <td>1</td>\n",
              "      <td>42.0</td>\n",
              "      <td>20017</td>\n",
              "      <td>-1316976824790230940</td>\n",
              "      <td>1403073183891835564</td>\n",
              "      <td>0.458416</td>\n",
              "    </tr>\n",
              "    <tr>\n",
              "      <th>1</th>\n",
              "      <td>8.141671</td>\n",
              "      <td>3.693</td>\n",
              "      <td>False</td>\n",
              "      <td>29</td>\n",
              "      <td>True</td>\n",
              "      <td>1</td>\n",
              "      <td>38.0</td>\n",
              "      <td>20015</td>\n",
              "      <td>-1316976824790230940</td>\n",
              "      <td>8904940584331855459</td>\n",
              "      <td>0.870985</td>\n",
              "    </tr>\n",
              "    <tr>\n",
              "      <th>2</th>\n",
              "      <td>5.948072</td>\n",
              "      <td>2.698</td>\n",
              "      <td>True</td>\n",
              "      <td>38</td>\n",
              "      <td>False</td>\n",
              "      <td>1</td>\n",
              "      <td>38.0</td>\n",
              "      <td>200112</td>\n",
              "      <td>-1316976824790230940</td>\n",
              "      <td>7108882242435606404</td>\n",
              "      <td>0.179925</td>\n",
              "    </tr>\n",
              "    <tr>\n",
              "      <th>3</th>\n",
              "      <td>8.838332</td>\n",
              "      <td>4.009</td>\n",
              "      <td>True</td>\n",
              "      <td>27</td>\n",
              "      <td>True</td>\n",
              "      <td>1</td>\n",
              "      <td>39.0</td>\n",
              "      <td>200111</td>\n",
              "      <td>-1316976824790230940</td>\n",
              "      <td>3408502330831153141</td>\n",
              "      <td>0.513195</td>\n",
              "    </tr>\n",
              "    <tr>\n",
              "      <th>4</th>\n",
              "      <td>9.259415</td>\n",
              "      <td>4.200</td>\n",
              "      <td>True</td>\n",
              "      <td>28</td>\n",
              "      <td>False</td>\n",
              "      <td>1</td>\n",
              "      <td>38.0</td>\n",
              "      <td>20018</td>\n",
              "      <td>-1316976824790230940</td>\n",
              "      <td>1088037545023002395</td>\n",
              "      <td>0.806704</td>\n",
              "    </tr>\n",
              "  </tbody>\n",
              "</table>\n",
              "</div>"
            ],
            "text/plain": [
              "   weight_pounds  weight_kilos  ...            hashmonth   meurand\n",
              "0       8.818490         4.000  ...  1403073183891835564  0.458416\n",
              "1       8.141671         3.693  ...  8904940584331855459  0.870985\n",
              "2       5.948072         2.698  ...  7108882242435606404  0.179925\n",
              "3       8.838332         4.009  ...  3408502330831153141  0.513195\n",
              "4       9.259415         4.200  ...  1088037545023002395  0.806704\n",
              "\n",
              "[5 rows x 11 columns]"
            ]
          },
          "metadata": {
            "tags": []
          },
          "execution_count": 20
        }
      ]
    },
    {
      "cell_type": "markdown",
      "metadata": {
        "id": "iFLymulXf33p",
        "colab_type": "text"
      },
      "source": [
        "# Análise bi-variada.\n",
        "\n",
        "Observando peso e quantidade a partir de diversas dimensões"
      ]
    },
    {
      "cell_type": "code",
      "metadata": {
        "id": "5TjYIw1fgAIX",
        "colab_type": "code",
        "colab": {}
      },
      "source": [
        "# Para facilitar nossa vida,  \n",
        "def get_grouped_values(column_name):\n",
        "  sql = \"\"\"\n",
        "SELECT\n",
        "  {0},\n",
        "  COUNT(1) AS qtde_bebes,\n",
        "  AVG(weight_pounds * 0.45359237) AS peso_medio\n",
        "FROM\n",
        "  publicdata.samples.natality\n",
        "WHERE\n",
        "  year > 2000\n",
        "GROUP BY\n",
        "  {0}\n",
        "ORDER BY\n",
        "  {0}\n",
        "  \"\"\".format(column_name)\n",
        "  return bgclient.query(sql).to_dataframe()"
      ],
      "execution_count": 0,
      "outputs": []
    },
    {
      "cell_type": "markdown",
      "metadata": {
        "id": "ZA6vCrbY6EX9",
        "colab_type": "text"
      },
      "source": [
        "A partir de então, plote e analise a quantidade de bebês nascidos e seu peso médio por cada um dos atributos pedidos pelo professor:\n"
      ]
    },
    {
      "cell_type": "code",
      "metadata": {
        "id": "la7j-T8s6H8_",
        "colab_type": "code",
        "outputId": "539c8ddd-b7e7-4480-a66b-6e561fea3d99",
        "colab": {
          "base_uri": "https://localhost:8080/",
          "height": 744
        }
      },
      "source": [
        "# Bar plot to see gestation_weeks with avg_wt linear and num_babies logarithmic\n",
        "df = get_grouped_values('gestation_weeks')\n",
        "df = df.sort_values('gestation_weeks')\n",
        "display(df.transpose())\n",
        "fig, (ax1, ax2) = plt.subplots(ncols=2, sharey=True, figsize=(12,4) )\n",
        "df.plot(x='gestation_weeks', y='qtde_bebes', ax=ax1, logy=True, title=\"Bebês X Sem. Gestação\");\n",
        "df.plot(x='gestation_weeks', y='qtde_bebes', ax=ax2, logy=True, kind='bar', title=\"Bebês X Sem. Gestação\");\n",
        "plt.show()\n",
        "\n",
        "fig, (ax1, ax2) = plt.subplots(ncols=2, sharey=True, figsize=(12,4) )\n",
        "df.plot(x='gestation_weeks', y='peso_medio', ax=ax1, title=\"Peso X Sem. Gestação\");\n",
        "df.plot(x='gestation_weeks', y='peso_medio', ax=ax2, kind='bar', title=\"Peso X Sem. Gestação\");\n",
        "plt.show()"
      ],
      "execution_count": 0,
      "outputs": [
        {
          "output_type": "display_data",
          "data": {
            "text/html": [
              "<div>\n",
              "<style scoped>\n",
              "    .dataframe tbody tr th:only-of-type {\n",
              "        vertical-align: middle;\n",
              "    }\n",
              "\n",
              "    .dataframe tbody tr th {\n",
              "        vertical-align: top;\n",
              "    }\n",
              "\n",
              "    .dataframe thead th {\n",
              "        text-align: right;\n",
              "    }\n",
              "</style>\n",
              "<table border=\"1\" class=\"dataframe\">\n",
              "  <thead>\n",
              "    <tr style=\"text-align: right;\">\n",
              "      <th></th>\n",
              "      <th>1</th>\n",
              "      <th>2</th>\n",
              "      <th>3</th>\n",
              "      <th>4</th>\n",
              "      <th>5</th>\n",
              "      <th>6</th>\n",
              "      <th>7</th>\n",
              "      <th>8</th>\n",
              "      <th>9</th>\n",
              "      <th>10</th>\n",
              "      <th>11</th>\n",
              "      <th>12</th>\n",
              "      <th>13</th>\n",
              "      <th>14</th>\n",
              "      <th>15</th>\n",
              "      <th>16</th>\n",
              "      <th>17</th>\n",
              "      <th>18</th>\n",
              "      <th>19</th>\n",
              "      <th>20</th>\n",
              "      <th>21</th>\n",
              "      <th>22</th>\n",
              "      <th>23</th>\n",
              "      <th>24</th>\n",
              "      <th>25</th>\n",
              "      <th>26</th>\n",
              "      <th>27</th>\n",
              "      <th>28</th>\n",
              "      <th>29</th>\n",
              "      <th>30</th>\n",
              "      <th>31</th>\n",
              "      <th>0</th>\n",
              "    </tr>\n",
              "  </thead>\n",
              "  <tbody>\n",
              "    <tr>\n",
              "      <th>gestation_weeks</th>\n",
              "      <td>17.000000</td>\n",
              "      <td>18.000000</td>\n",
              "      <td>19.000000</td>\n",
              "      <td>20.000000</td>\n",
              "      <td>21.000000</td>\n",
              "      <td>22.000000</td>\n",
              "      <td>23.000000</td>\n",
              "      <td>24.000000</td>\n",
              "      <td>25.000000</td>\n",
              "      <td>26.000000</td>\n",
              "      <td>27.000000</td>\n",
              "      <td>28.00000</td>\n",
              "      <td>29.000000</td>\n",
              "      <td>30.000000</td>\n",
              "      <td>31.000000</td>\n",
              "      <td>32.000000</td>\n",
              "      <td>33.000000</td>\n",
              "      <td>34.000000</td>\n",
              "      <td>35.000000</td>\n",
              "      <td>3.600000e+01</td>\n",
              "      <td>3.700000e+01</td>\n",
              "      <td>3.800000e+01</td>\n",
              "      <td>3.900000e+01</td>\n",
              "      <td>4.000000e+01</td>\n",
              "      <td>4.100000e+01</td>\n",
              "      <td>42.00000</td>\n",
              "      <td>43.000000</td>\n",
              "      <td>44.000000</td>\n",
              "      <td>45.000000</td>\n",
              "      <td>46.000000</td>\n",
              "      <td>47.000000</td>\n",
              "      <td>NaN</td>\n",
              "    </tr>\n",
              "    <tr>\n",
              "      <th>qtde_bebes</th>\n",
              "      <td>2336.000000</td>\n",
              "      <td>3905.000000</td>\n",
              "      <td>6278.000000</td>\n",
              "      <td>10847.000000</td>\n",
              "      <td>14682.000000</td>\n",
              "      <td>18855.000000</td>\n",
              "      <td>24340.000000</td>\n",
              "      <td>33449.000000</td>\n",
              "      <td>38144.000000</td>\n",
              "      <td>44745.000000</td>\n",
              "      <td>50536.000000</td>\n",
              "      <td>67953.00000</td>\n",
              "      <td>82356.000000</td>\n",
              "      <td>113490.000000</td>\n",
              "      <td>147725.000000</td>\n",
              "      <td>208791.000000</td>\n",
              "      <td>310675.000000</td>\n",
              "      <td>533941.000000</td>\n",
              "      <td>866817.000000</td>\n",
              "      <td>1.524448e+06</td>\n",
              "      <td>2.998104e+06</td>\n",
              "      <td>6.103867e+06</td>\n",
              "      <td>8.348664e+06</td>\n",
              "      <td>6.467795e+06</td>\n",
              "      <td>2.993797e+06</td>\n",
              "      <td>987732.00000</td>\n",
              "      <td>514226.000000</td>\n",
              "      <td>265652.000000</td>\n",
              "      <td>136243.000000</td>\n",
              "      <td>71537.000000</td>\n",
              "      <td>43895.000000</td>\n",
              "      <td>236089.00000</td>\n",
              "    </tr>\n",
              "    <tr>\n",
              "      <th>peso_medio</th>\n",
              "      <td>0.443625</td>\n",
              "      <td>0.401155</td>\n",
              "      <td>0.367813</td>\n",
              "      <td>0.454306</td>\n",
              "      <td>0.504173</td>\n",
              "      <td>0.560398</td>\n",
              "      <td>0.629554</td>\n",
              "      <td>0.814957</td>\n",
              "      <td>0.925789</td>\n",
              "      <td>1.041978</td>\n",
              "      <td>1.159034</td>\n",
              "      <td>1.53215</td>\n",
              "      <td>1.713426</td>\n",
              "      <td>1.907414</td>\n",
              "      <td>2.047177</td>\n",
              "      <td>2.226057</td>\n",
              "      <td>2.397669</td>\n",
              "      <td>2.583161</td>\n",
              "      <td>2.757481</td>\n",
              "      <td>2.920017e+00</td>\n",
              "      <td>3.105717e+00</td>\n",
              "      <td>3.287667e+00</td>\n",
              "      <td>3.407258e+00</td>\n",
              "      <td>3.486753e+00</td>\n",
              "      <td>3.531724e+00</td>\n",
              "      <td>3.47109</td>\n",
              "      <td>3.435104</td>\n",
              "      <td>3.442801</td>\n",
              "      <td>3.440352</td>\n",
              "      <td>3.414155</td>\n",
              "      <td>3.400197</td>\n",
              "      <td>3.23607</td>\n",
              "    </tr>\n",
              "  </tbody>\n",
              "</table>\n",
              "</div>"
            ],
            "text/plain": [
              "                          1            2   ...            31            0 \n",
              "gestation_weeks    17.000000    18.000000  ...     47.000000           NaN\n",
              "qtde_bebes       2336.000000  3905.000000  ...  43895.000000  236089.00000\n",
              "peso_medio          0.443625     0.401155  ...      3.400197       3.23607\n",
              "\n",
              "[3 rows x 32 columns]"
            ]
          },
          "metadata": {
            "tags": []
          }
        },
        {
          "output_type": "display_data",
          "data": {
            "image/png": "[encoded data removed]",
            "text/plain": [
              "<Figure size 864x288 with 2 Axes>"
            ]
          },
          "metadata": {
            "tags": []
          }
        },
        {
          "output_type": "display_data",
          "data": {
            "image/png": "[encoded data removed]",
            "text/plain": [
              "<Figure size 864x288 with 2 Axes>"
            ]
          },
          "metadata": {
            "tags": []
          }
        }
      ]
    },
    {
      "cell_type": "markdown",
      "metadata": {
        "id": "xUZwJitcmUNy",
        "colab_type": "text"
      },
      "source": [
        "# Conclusão"
      ]
    },
    {
      "cell_type": "markdown",
      "metadata": {
        "id": "y0CwlZXmubol",
        "colab_type": "text"
      },
      "source": [
        "Informe aqui as hipóteses obtidas com base na EDA:"
      ]
    },
    {
      "cell_type": "markdown",
      "metadata": {
        "id": "cdgZGvtchdbq",
        "colab_type": "text"
      },
      "source": [
        "(Escreva sua conclusão aqui!)\n",
        "\n",
        " \n"
      ]
    },
    {
      "cell_type": "markdown",
      "metadata": {
        "id": "HcugVgL36qoh",
        "colab_type": "text"
      },
      "source": [
        "\n",
        "No próximo notebook, desenvolveremos um modelo de aprendizado de máquina para combinar todos esses fatores para obter uma previsão do peso de um bebê."
      ]
    }
  ]
}